{
 "cells": [
  {
   "cell_type": "code",
   "execution_count": null,
   "id": "7094002a",
   "metadata": {},
   "outputs": [],
   "source": [
    "import kaggle\n",
    "kaggle.api.authenticate()\n",
    "kaggle.api.dataset_download_files('sobhanmoosavi/us-accidents',path='.',unzip=True)"
   ]
  },
  {
   "cell_type": "code",
   "execution_count": 21,
   "id": "1af2f6e6",
   "metadata": {},
   "outputs": [],
   "source": [
    "import pandas as pd\n",
    "import matplotlib.pyplot as plt\n",
    "import seaborn as sns"
   ]
  },
  {
   "cell_type": "code",
   "execution_count": null,
   "id": "9bca2cac",
   "metadata": {},
   "outputs": [],
   "source": [
    "pd.set_option('display.max_columns', None)# Hiển thị tất cả các cột"
   ]
  },
  {
   "cell_type": "code",
   "execution_count": null,
   "id": "6f0e254a",
   "metadata": {},
   "outputs": [],
   "source": [
    "df = pd.read_csv(\"US_Accidents_March23.csv\")# Đọc dữ liệu từ file CSV"
   ]
  },
  {
   "cell_type": "code",
   "execution_count": 10,
   "id": "de877c3b",
   "metadata": {},
   "outputs": [
    {
     "data": {
      "text/html": [
       "<div>\n",
       "<style scoped>\n",
       "    .dataframe tbody tr th:only-of-type {\n",
       "        vertical-align: middle;\n",
       "    }\n",
       "\n",
       "    .dataframe tbody tr th {\n",
       "        vertical-align: top;\n",
       "    }\n",
       "\n",
       "    .dataframe thead th {\n",
       "        text-align: right;\n",
       "    }\n",
       "</style>\n",
       "<table border=\"1\" class=\"dataframe\">\n",
       "  <thead>\n",
       "    <tr style=\"text-align: right;\">\n",
       "      <th></th>\n",
       "      <th>ID</th>\n",
       "      <th>Source</th>\n",
       "      <th>Severity</th>\n",
       "      <th>Start_Time</th>\n",
       "      <th>End_Time</th>\n",
       "      <th>Start_Lat</th>\n",
       "      <th>Start_Lng</th>\n",
       "      <th>End_Lat</th>\n",
       "      <th>End_Lng</th>\n",
       "      <th>Distance(mi)</th>\n",
       "      <th>Description</th>\n",
       "      <th>Street</th>\n",
       "      <th>City</th>\n",
       "      <th>County</th>\n",
       "      <th>State</th>\n",
       "      <th>Zipcode</th>\n",
       "      <th>Country</th>\n",
       "      <th>Timezone</th>\n",
       "      <th>Airport_Code</th>\n",
       "      <th>Weather_Timestamp</th>\n",
       "      <th>Temperature(F)</th>\n",
       "      <th>Wind_Chill(F)</th>\n",
       "      <th>Humidity(%)</th>\n",
       "      <th>Pressure(in)</th>\n",
       "      <th>Visibility(mi)</th>\n",
       "      <th>Wind_Direction</th>\n",
       "      <th>Wind_Speed(mph)</th>\n",
       "      <th>Precipitation(in)</th>\n",
       "      <th>Weather_Condition</th>\n",
       "      <th>Amenity</th>\n",
       "      <th>Bump</th>\n",
       "      <th>Crossing</th>\n",
       "      <th>Give_Way</th>\n",
       "      <th>Junction</th>\n",
       "      <th>No_Exit</th>\n",
       "      <th>Railway</th>\n",
       "      <th>Roundabout</th>\n",
       "      <th>Station</th>\n",
       "      <th>Stop</th>\n",
       "      <th>Traffic_Calming</th>\n",
       "      <th>Traffic_Signal</th>\n",
       "      <th>Turning_Loop</th>\n",
       "      <th>Sunrise_Sunset</th>\n",
       "      <th>Civil_Twilight</th>\n",
       "      <th>Nautical_Twilight</th>\n",
       "      <th>Astronomical_Twilight</th>\n",
       "    </tr>\n",
       "  </thead>\n",
       "  <tbody>\n",
       "    <tr>\n",
       "      <th>0</th>\n",
       "      <td>A-1</td>\n",
       "      <td>Source2</td>\n",
       "      <td>3</td>\n",
       "      <td>2016-02-08 05:46:00</td>\n",
       "      <td>2016-02-08 11:00:00</td>\n",
       "      <td>39.865147</td>\n",
       "      <td>-84.058723</td>\n",
       "      <td>NaN</td>\n",
       "      <td>NaN</td>\n",
       "      <td>0.01</td>\n",
       "      <td>Right lane blocked due to accident on I-70 Eas...</td>\n",
       "      <td>I-70 E</td>\n",
       "      <td>Dayton</td>\n",
       "      <td>Montgomery</td>\n",
       "      <td>OH</td>\n",
       "      <td>45424</td>\n",
       "      <td>US</td>\n",
       "      <td>US/Eastern</td>\n",
       "      <td>KFFO</td>\n",
       "      <td>2016-02-08 05:58:00</td>\n",
       "      <td>36.9</td>\n",
       "      <td>NaN</td>\n",
       "      <td>91.0</td>\n",
       "      <td>29.68</td>\n",
       "      <td>10.0</td>\n",
       "      <td>Calm</td>\n",
       "      <td>NaN</td>\n",
       "      <td>0.02</td>\n",
       "      <td>Light Rain</td>\n",
       "      <td>False</td>\n",
       "      <td>False</td>\n",
       "      <td>False</td>\n",
       "      <td>False</td>\n",
       "      <td>False</td>\n",
       "      <td>False</td>\n",
       "      <td>False</td>\n",
       "      <td>False</td>\n",
       "      <td>False</td>\n",
       "      <td>False</td>\n",
       "      <td>False</td>\n",
       "      <td>False</td>\n",
       "      <td>False</td>\n",
       "      <td>Night</td>\n",
       "      <td>Night</td>\n",
       "      <td>Night</td>\n",
       "      <td>Night</td>\n",
       "    </tr>\n",
       "    <tr>\n",
       "      <th>1</th>\n",
       "      <td>A-2</td>\n",
       "      <td>Source2</td>\n",
       "      <td>2</td>\n",
       "      <td>2016-02-08 06:07:59</td>\n",
       "      <td>2016-02-08 06:37:59</td>\n",
       "      <td>39.928059</td>\n",
       "      <td>-82.831184</td>\n",
       "      <td>NaN</td>\n",
       "      <td>NaN</td>\n",
       "      <td>0.01</td>\n",
       "      <td>Accident on Brice Rd at Tussing Rd. Expect del...</td>\n",
       "      <td>Brice Rd</td>\n",
       "      <td>Reynoldsburg</td>\n",
       "      <td>Franklin</td>\n",
       "      <td>OH</td>\n",
       "      <td>43068-3402</td>\n",
       "      <td>US</td>\n",
       "      <td>US/Eastern</td>\n",
       "      <td>KCMH</td>\n",
       "      <td>2016-02-08 05:51:00</td>\n",
       "      <td>37.9</td>\n",
       "      <td>NaN</td>\n",
       "      <td>100.0</td>\n",
       "      <td>29.65</td>\n",
       "      <td>10.0</td>\n",
       "      <td>Calm</td>\n",
       "      <td>NaN</td>\n",
       "      <td>0.00</td>\n",
       "      <td>Light Rain</td>\n",
       "      <td>False</td>\n",
       "      <td>False</td>\n",
       "      <td>False</td>\n",
       "      <td>False</td>\n",
       "      <td>False</td>\n",
       "      <td>False</td>\n",
       "      <td>False</td>\n",
       "      <td>False</td>\n",
       "      <td>False</td>\n",
       "      <td>False</td>\n",
       "      <td>False</td>\n",
       "      <td>False</td>\n",
       "      <td>False</td>\n",
       "      <td>Night</td>\n",
       "      <td>Night</td>\n",
       "      <td>Night</td>\n",
       "      <td>Day</td>\n",
       "    </tr>\n",
       "    <tr>\n",
       "      <th>2</th>\n",
       "      <td>A-3</td>\n",
       "      <td>Source2</td>\n",
       "      <td>2</td>\n",
       "      <td>2016-02-08 06:49:27</td>\n",
       "      <td>2016-02-08 07:19:27</td>\n",
       "      <td>39.063148</td>\n",
       "      <td>-84.032608</td>\n",
       "      <td>NaN</td>\n",
       "      <td>NaN</td>\n",
       "      <td>0.01</td>\n",
       "      <td>Accident on OH-32 State Route 32 Westbound at ...</td>\n",
       "      <td>State Route 32</td>\n",
       "      <td>Williamsburg</td>\n",
       "      <td>Clermont</td>\n",
       "      <td>OH</td>\n",
       "      <td>45176</td>\n",
       "      <td>US</td>\n",
       "      <td>US/Eastern</td>\n",
       "      <td>KI69</td>\n",
       "      <td>2016-02-08 06:56:00</td>\n",
       "      <td>36.0</td>\n",
       "      <td>33.3</td>\n",
       "      <td>100.0</td>\n",
       "      <td>29.67</td>\n",
       "      <td>10.0</td>\n",
       "      <td>SW</td>\n",
       "      <td>3.5</td>\n",
       "      <td>NaN</td>\n",
       "      <td>Overcast</td>\n",
       "      <td>False</td>\n",
       "      <td>False</td>\n",
       "      <td>False</td>\n",
       "      <td>False</td>\n",
       "      <td>False</td>\n",
       "      <td>False</td>\n",
       "      <td>False</td>\n",
       "      <td>False</td>\n",
       "      <td>False</td>\n",
       "      <td>False</td>\n",
       "      <td>False</td>\n",
       "      <td>True</td>\n",
       "      <td>False</td>\n",
       "      <td>Night</td>\n",
       "      <td>Night</td>\n",
       "      <td>Day</td>\n",
       "      <td>Day</td>\n",
       "    </tr>\n",
       "    <tr>\n",
       "      <th>3</th>\n",
       "      <td>A-4</td>\n",
       "      <td>Source2</td>\n",
       "      <td>3</td>\n",
       "      <td>2016-02-08 07:23:34</td>\n",
       "      <td>2016-02-08 07:53:34</td>\n",
       "      <td>39.747753</td>\n",
       "      <td>-84.205582</td>\n",
       "      <td>NaN</td>\n",
       "      <td>NaN</td>\n",
       "      <td>0.01</td>\n",
       "      <td>Accident on I-75 Southbound at Exits 52 52B US...</td>\n",
       "      <td>I-75 S</td>\n",
       "      <td>Dayton</td>\n",
       "      <td>Montgomery</td>\n",
       "      <td>OH</td>\n",
       "      <td>45417</td>\n",
       "      <td>US</td>\n",
       "      <td>US/Eastern</td>\n",
       "      <td>KDAY</td>\n",
       "      <td>2016-02-08 07:38:00</td>\n",
       "      <td>35.1</td>\n",
       "      <td>31.0</td>\n",
       "      <td>96.0</td>\n",
       "      <td>29.64</td>\n",
       "      <td>9.0</td>\n",
       "      <td>SW</td>\n",
       "      <td>4.6</td>\n",
       "      <td>NaN</td>\n",
       "      <td>Mostly Cloudy</td>\n",
       "      <td>False</td>\n",
       "      <td>False</td>\n",
       "      <td>False</td>\n",
       "      <td>False</td>\n",
       "      <td>False</td>\n",
       "      <td>False</td>\n",
       "      <td>False</td>\n",
       "      <td>False</td>\n",
       "      <td>False</td>\n",
       "      <td>False</td>\n",
       "      <td>False</td>\n",
       "      <td>False</td>\n",
       "      <td>False</td>\n",
       "      <td>Night</td>\n",
       "      <td>Day</td>\n",
       "      <td>Day</td>\n",
       "      <td>Day</td>\n",
       "    </tr>\n",
       "    <tr>\n",
       "      <th>4</th>\n",
       "      <td>A-5</td>\n",
       "      <td>Source2</td>\n",
       "      <td>2</td>\n",
       "      <td>2016-02-08 07:39:07</td>\n",
       "      <td>2016-02-08 08:09:07</td>\n",
       "      <td>39.627781</td>\n",
       "      <td>-84.188354</td>\n",
       "      <td>NaN</td>\n",
       "      <td>NaN</td>\n",
       "      <td>0.01</td>\n",
       "      <td>Accident on McEwen Rd at OH-725 Miamisburg Cen...</td>\n",
       "      <td>Miamisburg Centerville Rd</td>\n",
       "      <td>Dayton</td>\n",
       "      <td>Montgomery</td>\n",
       "      <td>OH</td>\n",
       "      <td>45459</td>\n",
       "      <td>US</td>\n",
       "      <td>US/Eastern</td>\n",
       "      <td>KMGY</td>\n",
       "      <td>2016-02-08 07:53:00</td>\n",
       "      <td>36.0</td>\n",
       "      <td>33.3</td>\n",
       "      <td>89.0</td>\n",
       "      <td>29.65</td>\n",
       "      <td>6.0</td>\n",
       "      <td>SW</td>\n",
       "      <td>3.5</td>\n",
       "      <td>NaN</td>\n",
       "      <td>Mostly Cloudy</td>\n",
       "      <td>False</td>\n",
       "      <td>False</td>\n",
       "      <td>False</td>\n",
       "      <td>False</td>\n",
       "      <td>False</td>\n",
       "      <td>False</td>\n",
       "      <td>False</td>\n",
       "      <td>False</td>\n",
       "      <td>False</td>\n",
       "      <td>False</td>\n",
       "      <td>False</td>\n",
       "      <td>True</td>\n",
       "      <td>False</td>\n",
       "      <td>Day</td>\n",
       "      <td>Day</td>\n",
       "      <td>Day</td>\n",
       "      <td>Day</td>\n",
       "    </tr>\n",
       "  </tbody>\n",
       "</table>\n",
       "</div>"
      ],
      "text/plain": [
       "    ID   Source  Severity           Start_Time             End_Time  \\\n",
       "0  A-1  Source2         3  2016-02-08 05:46:00  2016-02-08 11:00:00   \n",
       "1  A-2  Source2         2  2016-02-08 06:07:59  2016-02-08 06:37:59   \n",
       "2  A-3  Source2         2  2016-02-08 06:49:27  2016-02-08 07:19:27   \n",
       "3  A-4  Source2         3  2016-02-08 07:23:34  2016-02-08 07:53:34   \n",
       "4  A-5  Source2         2  2016-02-08 07:39:07  2016-02-08 08:09:07   \n",
       "\n",
       "   Start_Lat  Start_Lng  End_Lat  End_Lng  Distance(mi)  \\\n",
       "0  39.865147 -84.058723      NaN      NaN          0.01   \n",
       "1  39.928059 -82.831184      NaN      NaN          0.01   \n",
       "2  39.063148 -84.032608      NaN      NaN          0.01   \n",
       "3  39.747753 -84.205582      NaN      NaN          0.01   \n",
       "4  39.627781 -84.188354      NaN      NaN          0.01   \n",
       "\n",
       "                                         Description  \\\n",
       "0  Right lane blocked due to accident on I-70 Eas...   \n",
       "1  Accident on Brice Rd at Tussing Rd. Expect del...   \n",
       "2  Accident on OH-32 State Route 32 Westbound at ...   \n",
       "3  Accident on I-75 Southbound at Exits 52 52B US...   \n",
       "4  Accident on McEwen Rd at OH-725 Miamisburg Cen...   \n",
       "\n",
       "                      Street          City      County State     Zipcode  \\\n",
       "0                     I-70 E        Dayton  Montgomery    OH       45424   \n",
       "1                   Brice Rd  Reynoldsburg    Franklin    OH  43068-3402   \n",
       "2             State Route 32  Williamsburg    Clermont    OH       45176   \n",
       "3                     I-75 S        Dayton  Montgomery    OH       45417   \n",
       "4  Miamisburg Centerville Rd        Dayton  Montgomery    OH       45459   \n",
       "\n",
       "  Country    Timezone Airport_Code    Weather_Timestamp  Temperature(F)  \\\n",
       "0      US  US/Eastern         KFFO  2016-02-08 05:58:00            36.9   \n",
       "1      US  US/Eastern         KCMH  2016-02-08 05:51:00            37.9   \n",
       "2      US  US/Eastern         KI69  2016-02-08 06:56:00            36.0   \n",
       "3      US  US/Eastern         KDAY  2016-02-08 07:38:00            35.1   \n",
       "4      US  US/Eastern         KMGY  2016-02-08 07:53:00            36.0   \n",
       "\n",
       "   Wind_Chill(F)  Humidity(%)  Pressure(in)  Visibility(mi) Wind_Direction  \\\n",
       "0            NaN         91.0         29.68            10.0           Calm   \n",
       "1            NaN        100.0         29.65            10.0           Calm   \n",
       "2           33.3        100.0         29.67            10.0             SW   \n",
       "3           31.0         96.0         29.64             9.0             SW   \n",
       "4           33.3         89.0         29.65             6.0             SW   \n",
       "\n",
       "   Wind_Speed(mph)  Precipitation(in) Weather_Condition  Amenity   Bump  \\\n",
       "0              NaN               0.02        Light Rain    False  False   \n",
       "1              NaN               0.00        Light Rain    False  False   \n",
       "2              3.5                NaN          Overcast    False  False   \n",
       "3              4.6                NaN     Mostly Cloudy    False  False   \n",
       "4              3.5                NaN     Mostly Cloudy    False  False   \n",
       "\n",
       "   Crossing  Give_Way  Junction  No_Exit  Railway  Roundabout  Station   Stop  \\\n",
       "0     False     False     False    False    False       False    False  False   \n",
       "1     False     False     False    False    False       False    False  False   \n",
       "2     False     False     False    False    False       False    False  False   \n",
       "3     False     False     False    False    False       False    False  False   \n",
       "4     False     False     False    False    False       False    False  False   \n",
       "\n",
       "   Traffic_Calming  Traffic_Signal  Turning_Loop Sunrise_Sunset  \\\n",
       "0            False           False         False          Night   \n",
       "1            False           False         False          Night   \n",
       "2            False            True         False          Night   \n",
       "3            False           False         False          Night   \n",
       "4            False            True         False            Day   \n",
       "\n",
       "  Civil_Twilight Nautical_Twilight Astronomical_Twilight  \n",
       "0          Night             Night                 Night  \n",
       "1          Night             Night                   Day  \n",
       "2          Night               Day                   Day  \n",
       "3            Day               Day                   Day  \n",
       "4            Day               Day                   Day  "
      ]
     },
     "execution_count": 10,
     "metadata": {},
     "output_type": "execute_result"
    }
   ],
   "source": [
    "df.head()# Hiển thị 5 dòng đầu tiên của DataFrame"
   ]
  },
  {
   "cell_type": "markdown",
   "id": "93c5093a",
   "metadata": {},
   "source": [
    "1. Kiểm tra kích thước & cấu trúc dữ liệu"
   ]
  },
  {
   "cell_type": "code",
   "execution_count": 16,
   "id": "5332014a",
   "metadata": {},
   "outputs": [
    {
     "name": "stdout",
     "output_type": "stream",
     "text": [
      "Kích thước của dữ liệu (rows, columns): (7728394, 46)\n",
      "\n",
      "Thông tin cấu trúc dữ liệu:\n",
      "<class 'pandas.core.frame.DataFrame'>\n",
      "RangeIndex: 7728394 entries, 0 to 7728393\n",
      "Data columns (total 46 columns):\n",
      " #   Column                 Dtype  \n",
      "---  ------                 -----  \n",
      " 0   ID                     object \n",
      " 1   Source                 object \n",
      " 2   Severity               int64  \n",
      " 3   Start_Time             object \n",
      " 4   End_Time               object \n",
      " 5   Start_Lat              float64\n",
      " 6   Start_Lng              float64\n",
      " 7   End_Lat                float64\n",
      " 8   End_Lng                float64\n",
      " 9   Distance(mi)           float64\n",
      " 10  Description            object \n",
      " 11  Street                 object \n",
      " 12  City                   object \n",
      " 13  County                 object \n",
      " 14  State                  object \n",
      " 15  Zipcode                object \n",
      " 16  Country                object \n",
      " 17  Timezone               object \n",
      " 18  Airport_Code           object \n",
      " 19  Weather_Timestamp      object \n",
      " 20  Temperature(F)         float64\n",
      " 21  Wind_Chill(F)          float64\n",
      " 22  Humidity(%)            float64\n",
      " 23  Pressure(in)           float64\n",
      " 24  Visibility(mi)         float64\n",
      " 25  Wind_Direction         object \n",
      " 26  Wind_Speed(mph)        float64\n",
      " 27  Precipitation(in)      float64\n",
      " 28  Weather_Condition      object \n",
      " 29  Amenity                bool   \n",
      " 30  Bump                   bool   \n",
      " 31  Crossing               bool   \n",
      " 32  Give_Way               bool   \n",
      " 33  Junction               bool   \n",
      " 34  No_Exit                bool   \n",
      " 35  Railway                bool   \n",
      " 36  Roundabout             bool   \n",
      " 37  Station                bool   \n",
      " 38  Stop                   bool   \n",
      " 39  Traffic_Calming        bool   \n",
      " 40  Traffic_Signal         bool   \n",
      " 41  Turning_Loop           bool   \n",
      " 42  Sunrise_Sunset         object \n",
      " 43  Civil_Twilight         object \n",
      " 44  Nautical_Twilight      object \n",
      " 45  Astronomical_Twilight  object \n",
      "dtypes: bool(13), float64(12), int64(1), object(20)\n",
      "memory usage: 2.0+ GB\n",
      "None\n"
     ]
    }
   ],
   "source": [
    "print(\"Kích thước của dữ liệu (rows, columns):\", df.shape)\n",
    "print(\"\\nThông tin cấu trúc dữ liệu:\")\n",
    "print(df.info())"
   ]
  },
  {
   "cell_type": "markdown",
   "id": "e6539836",
   "metadata": {},
   "source": [
    "2. Kiểm tra dữ liệu bị thiếu (missing values)"
   ]
  },
  {
   "cell_type": "code",
   "execution_count": 17,
   "id": "cc4c85df",
   "metadata": {},
   "outputs": [
    {
     "name": "stdout",
     "output_type": "stream",
     "text": [
      "\n",
      "Các cột có giá trị thiếu:\n",
      "                       Missing Values  Percentage\n",
      "End_Lat                       3402762   44.029355\n",
      "End_Lng                       3402762   44.029355\n",
      "Precipitation(in)             2203586   28.512858\n",
      "Wind_Chill(F)                 1999019   25.865904\n",
      "Wind_Speed(mph)                571233    7.391355\n",
      "Visibility(mi)                 177098    2.291524\n",
      "Wind_Direction                 175206    2.267043\n",
      "Humidity(%)                    174144    2.253301\n",
      "Weather_Condition              173459    2.244438\n",
      "Temperature(F)                 163853    2.120143\n",
      "Pressure(in)                   140679    1.820288\n",
      "Weather_Timestamp              120228    1.555666\n",
      "Sunrise_Sunset                  23246    0.300787\n",
      "Civil_Twilight                  23246    0.300787\n",
      "Nautical_Twilight               23246    0.300787\n",
      "Astronomical_Twilight           23246    0.300787\n",
      "Airport_Code                    22635    0.292881\n",
      "Street                          10869    0.140637\n",
      "Timezone                         7808    0.101030\n",
      "Zipcode                          1915    0.024779\n",
      "City                              253    0.003274\n",
      "Description                         5    0.000065\n"
     ]
    }
   ],
   "source": [
    "missing = df.isnull().sum()\n",
    "missing_percent = (missing / len(df)) * 100\n",
    "missing_df = pd.DataFrame({'Missing Values': missing, 'Percentage': missing_percent})\n",
    "missing_df = missing_df[missing_df['Missing Values'] > 0].sort_values(by='Percentage', ascending=False)\n",
    "print(\"\\nCác cột có giá trị thiếu:\")\n",
    "print(missing_df)"
   ]
  },
  {
   "cell_type": "code",
   "execution_count": 22,
   "id": "ad2c5b8e",
   "metadata": {},
   "outputs": [
    {
     "data": {
      "image/png": "[encoded data removed]",
      "text/plain": [
       "<Figure size 1200x600 with 1 Axes>"
      ]
     },
     "metadata": {},
     "output_type": "display_data"
    }
   ],
   "source": [
    "plt.figure(figsize=(12,6))\n",
    "sns.barplot(x=missing_df.index, y=missing_df['Percentage'])\n",
    "plt.xticks(rotation=90)\n",
    "plt.title(\"Tỷ lệ giá trị thiếu theo cột\")\n",
    "plt.ylabel(\"% Thiếu\")\n",
    "plt.tight_layout()\n",
    "plt.show()"
   ]
  },
  {
   "cell_type": "markdown",
   "id": "d637db55",
   "metadata": {},
   "source": [
    "3. Kiểm tra dữ liệu trùng lặp"
   ]
  },
  {
   "cell_type": "code",
   "execution_count": 23,
   "id": "ef160878",
   "metadata": {},
   "outputs": [
    {
     "name": "stdout",
     "output_type": "stream",
     "text": [
      "\n",
      "Số dòng trùng lặp: 0\n"
     ]
    }
   ],
   "source": [
    "duplicate_count = df.duplicated().sum()\n",
    "print(f\"\\nSố dòng trùng lặp: {duplicate_count}\")"
   ]
  },
  {
   "cell_type": "markdown",
   "id": "3f239b41",
   "metadata": {},
   "source": [
    "4. Kiểm tra các giá trị duy nhất (unique)"
   ]
  },
  {
   "cell_type": "code",
   "execution_count": 24,
   "id": "c03d1957",
   "metadata": {},
   "outputs": [
    {
     "name": "stdout",
     "output_type": "stream",
     "text": [
      "\n",
      "Số giá trị duy nhất trong từng cột:\n",
      "Country                        1\n",
      "Turning_Loop                   1\n",
      "Amenity                        2\n",
      "Bump                           2\n",
      "Civil_Twilight                 2\n",
      "Sunrise_Sunset                 2\n",
      "Traffic_Signal                 2\n",
      "Crossing                       2\n",
      "Railway                        2\n",
      "Stop                           2\n",
      "Station                        2\n",
      "Roundabout                     2\n",
      "Junction                       2\n",
      "No_Exit                        2\n",
      "Give_Way                       2\n",
      "Traffic_Calming                2\n",
      "Astronomical_Twilight          2\n",
      "Nautical_Twilight              2\n",
      "Source                         3\n",
      "Severity                       4\n",
      "Timezone                       4\n",
      "Wind_Direction                24\n",
      "State                         49\n",
      "Visibility(mi)                92\n",
      "Humidity(%)                  100\n",
      "Weather_Condition            144\n",
      "Wind_Speed(mph)              184\n",
      "Precipitation(in)            299\n",
      "Temperature(F)               860\n",
      "Wind_Chill(F)               1001\n",
      "Pressure(in)                1144\n",
      "County                      1871\n",
      "Airport_Code                2045\n",
      "City                       13678\n",
      "Distance(mi)               22382\n",
      "Street                    336306\n",
      "Zipcode                   825094\n",
      "Weather_Timestamp         941331\n",
      "End_Lat                  1568172\n",
      "End_Lng                  1605789\n",
      "Start_Lat                2428358\n",
      "Start_Lng                2482533\n",
      "Description              3761578\n",
      "Start_Time               6131796\n",
      "End_Time                 6705355\n",
      "ID                       7728394\n",
      "dtype: int64\n"
     ]
    }
   ],
   "source": [
    "print(\"\\nSố giá trị duy nhất trong từng cột:\")\n",
    "unique_vals = df.nunique().sort_values(ascending=True)\n",
    "print(unique_vals)"
   ]
  },
  {
   "cell_type": "markdown",
   "id": "a2ad4fa5",
   "metadata": {},
   "source": [
    "5. Kiểm tra dữ liệu ngoại lệ (outliers)"
   ]
  },
  {
   "cell_type": "code",
   "execution_count": 32,
   "id": "44d28167",
   "metadata": {},
   "outputs": [
    {
     "data": {
      "image/png": "[encoded data removed]",
      "text/plain": [
       "<Figure size 800x400 with 1 Axes>"
      ]
     },
     "metadata": {},
     "output_type": "display_data"
    },
    {
     "data": {
      "image/png": "[encoded data removed]",
      "text/plain": [
       "<Figure size 800x400 with 1 Axes>"
      ]
     },
     "metadata": {},
     "output_type": "display_data"
    },
    {
     "data": {
      "image/png": "[encoded data removed]",
      "text/plain": [
       "<Figure size 800x400 with 1 Axes>"
      ]
     },
     "metadata": {},
     "output_type": "display_data"
    },
    {
     "data": {
      "image/png": "[encoded data removed]",
      "text/plain": [
       "<Figure size 800x400 with 1 Axes>"
      ]
     },
     "metadata": {},
     "output_type": "display_data"
    }
   ],
   "source": [
    "numeric_cols = ['Temperature(F)', 'Humidity(%)', 'Visibility(mi)', 'Wind_Speed(mph)']\n",
    "for col in numeric_cols:\n",
    "    plt.figure(figsize=(8,4))\n",
    "    sns.boxplot(x=df[col])\n",
    "    plt.title(f'Boxplot for {col}')\n",
    "    plt.show()"
   ]
  },
  {
   "cell_type": "markdown",
   "id": "5ff0701b",
   "metadata": {},
   "source": [
    "6. Kiểm tra tính hợp lệ theo quy tắc"
   ]
  },
  {
   "cell_type": "code",
   "execution_count": 28,
   "id": "ab0cfdb4",
   "metadata": {},
   "outputs": [
    {
     "name": "stdout",
     "output_type": "stream",
     "text": [
      "\n",
      "Giá trị duy nhất của cột 'Severity': [3 2 1 4]\n",
      "Kiểm tra giá trị không hợp lệ (Severity ngoài khoảng 1-4):\n",
      "Empty DataFrame\n",
      "Columns: [ID, Source, Severity, Start_Time, End_Time, Start_Lat, Start_Lng, End_Lat, End_Lng, Distance(mi), Description, Street, City, County, State, Zipcode, Country, Timezone, Airport_Code, Weather_Timestamp, Temperature(F), Wind_Chill(F), Humidity(%), Pressure(in), Visibility(mi), Wind_Direction, Wind_Speed(mph), Precipitation(in), Weather_Condition, Amenity, Bump, Crossing, Give_Way, Junction, No_Exit, Railway, Roundabout, Station, Stop, Traffic_Calming, Traffic_Signal, Turning_Loop, Sunrise_Sunset, Civil_Twilight, Nautical_Twilight, Astronomical_Twilight]\n",
      "Index: []\n"
     ]
    }
   ],
   "source": [
    "print(\"\\nGiá trị duy nhất của cột 'Severity':\", df['Severity'].unique())\n",
    "print(\"Kiểm tra giá trị không hợp lệ (Severity ngoài khoảng 1-4):\")\n",
    "print(df[~df['Severity'].isin([1, 2, 3, 4])])"
   ]
  },
  {
   "cell_type": "markdown",
   "id": "b92225b5",
   "metadata": {},
   "source": [
    "7. Kiểm tra định dạng dữ liệu ngày tháng"
   ]
  },
  {
   "cell_type": "code",
   "execution_count": 29,
   "id": "8810b539",
   "metadata": {},
   "outputs": [
    {
     "name": "stdout",
     "output_type": "stream",
     "text": [
      "\n",
      "Kiểu dữ liệu cột Start_Time: object\n",
      "Số giá trị ngày tháng không hợp lệ: 743166\n"
     ]
    }
   ],
   "source": [
    "# Kiểm tra kiểu dữ liệu trước\n",
    "print(\"\\nKiểu dữ liệu cột Start_Time:\", df['Start_Time'].dtype)\n",
    "\n",
    "# Chuyển đổi nếu chưa phải datetime\n",
    "df['Start_Time'] = pd.to_datetime(df['Start_Time'], errors='coerce')\n",
    "\n",
    "# Kiểm tra các giá trị không chuyển đổi được\n",
    "invalid_dates = df['Start_Time'].isnull().sum()\n",
    "print(f\"Số giá trị ngày tháng không hợp lệ: {invalid_dates}\")"
   ]
  },
  {
   "cell_type": "markdown",
   "id": "481d451a",
   "metadata": {},
   "source": [
    "8. Kiểm tra giá trị ngoài tập cho phép"
   ]
  },
  {
   "cell_type": "code",
   "execution_count": 30,
   "id": "cb7ab782",
   "metadata": {},
   "outputs": [
    {
     "name": "stdout",
     "output_type": "stream",
     "text": [
      "\n",
      "Số dòng có 'Wind_Direction' không hợp lệ: 3969456\n",
      "Các giá trị không hợp lệ:\n",
      "Wind_Direction\n",
      "CALM    961624\n",
      "SSW     384840\n",
      "WNW     378781\n",
      "WSW     353806\n",
      "SSE     349110\n",
      "NNW     333427\n",
      "ESE     268311\n",
      "ENE     258474\n",
      "NNE     255311\n",
      "VAR     250566\n",
      "Name: count, dtype: int64\n"
     ]
    }
   ],
   "source": [
    "valid_directions = ['N', 'S', 'E', 'W', 'NE', 'NW', 'SE', 'SW', 'Calm', 'Variable', 'North', 'South', 'East', 'West']\n",
    "invalid_wind = df[~df['Wind_Direction'].isin(valid_directions)]\n",
    "print(f\"\\nSố dòng có 'Wind_Direction' không hợp lệ: {len(invalid_wind)}\")\n",
    "print(\"Các giá trị không hợp lệ:\")\n",
    "print(invalid_wind['Wind_Direction'].value_counts())"
   ]
  }
 ],
 "metadata": {
  "kernelspec": {
   "display_name": "Python 3",
   "language": "python",
   "name": "python3"
  },
  "language_info": {
   "codemirror_mode": {
    "name": "ipython",
    "version": 3
   },
   "file_extension": ".py",
   "mimetype": "text/x-python",
   "name": "python",
   "nbconvert_exporter": "python",
   "pygments_lexer": "ipython3",
   "version": "3.12.10"
  }
 },
 "nbformat": 4,
 "nbformat_minor": 5
}

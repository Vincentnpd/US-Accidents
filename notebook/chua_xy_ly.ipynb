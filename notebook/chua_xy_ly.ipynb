{
 "cells": [
  {
   "cell_type": "code",
   "execution_count": 3,
   "id": "0e04f98c",
   "metadata": {},
   "outputs": [
    {
     "name": "stdout",
     "output_type": "stream",
     "text": [
      "<class 'pandas.core.frame.DataFrame'>\n",
      "RangeIndex: 7728394 entries, 0 to 7728393\n",
      "Data columns (total 46 columns):\n",
      " #   Column                 Dtype  \n",
      "---  ------                 -----  \n",
      " 0   ID                     object \n",
      " 1   Source                 object \n",
      " 2   Severity               int64  \n",
      " 3   Start_Time             object \n",
      " 4   End_Time               object \n",
      " 5   Start_Lat              float64\n",
      " 6   Start_Lng              float64\n",
      " 7   End_Lat                float64\n",
      " 8   End_Lng                float64\n",
      " 9   Distance(mi)           float64\n",
      " 10  Description            object \n",
      " 11  Street                 object \n",
      " 12  City                   object \n",
      " 13  County                 object \n",
      " 14  State                  object \n",
      " 15  Zipcode                object \n",
      " 16  Country                object \n",
      " 17  Timezone               object \n",
      " 18  Airport_Code           object \n",
      " 19  Weather_Timestamp      object \n",
      " 20  Temperature(F)         float64\n",
      " 21  Wind_Chill(F)          float64\n",
      " 22  Humidity(%)            float64\n",
      " 23  Pressure(in)           float64\n",
      " 24  Visibility(mi)         float64\n",
      " 25  Wind_Direction         object \n",
      " 26  Wind_Speed(mph)        float64\n",
      " 27  Precipitation(in)      float64\n",
      " 28  Weather_Condition      object \n",
      " 29  Amenity                bool   \n",
      " 30  Bump                   bool   \n",
      " 31  Crossing               bool   \n",
      " 32  Give_Way               bool   \n",
      " 33  Junction               bool   \n",
      " 34  No_Exit                bool   \n",
      " 35  Railway                bool   \n",
      " 36  Roundabout             bool   \n",
      " 37  Station                bool   \n",
      " 38  Stop                   bool   \n",
      " 39  Traffic_Calming        bool   \n",
      " 40  Traffic_Signal         bool   \n",
      " 41  Turning_Loop           bool   \n",
      " 42  Sunrise_Sunset         object \n",
      " 43  Civil_Twilight         object \n",
      " 44  Nautical_Twilight      object \n",
      " 45  Astronomical_Twilight  object \n",
      "dtypes: bool(13), float64(12), int64(1), object(20)\n",
      "memory usage: 2.0+ GB\n",
      "None\n"
     ]
    }
   ],
   "source": [
    "import pandas as pd\n",
    "\n",
    "df = pd.read_csv(\"D:/DATN/US - Accidents/data/raw/US_Accidents_March23.csv\")\n",
    "print(df.info())"
   ]
  },
  {
   "cell_type": "code",
   "execution_count": 5,
   "id": "b4f94fbb",
   "metadata": {},
   "outputs": [
    {
     "name": "stdout",
     "output_type": "stream",
     "text": [
      "ID                             0\n",
      "Source                         0\n",
      "Severity                       0\n",
      "Start_Time                     0\n",
      "End_Time                       0\n",
      "Start_Lat                      0\n",
      "Start_Lng                      0\n",
      "End_Lat                  3402762\n",
      "End_Lng                  3402762\n",
      "Distance(mi)                   0\n",
      "Description                    5\n",
      "Street                     10869\n",
      "City                         253\n",
      "County                         0\n",
      "State                          0\n",
      "Zipcode                     1915\n",
      "Country                        0\n",
      "Timezone                    7808\n",
      "Airport_Code               22635\n",
      "Weather_Timestamp         120228\n",
      "Temperature(F)            163853\n",
      "Wind_Chill(F)            1999019\n",
      "Humidity(%)               174144\n",
      "Pressure(in)              140679\n",
      "Visibility(mi)            177098\n",
      "Wind_Direction            175206\n",
      "Wind_Speed(mph)           571233\n",
      "Precipitation(in)        2203586\n",
      "Weather_Condition         173459\n",
      "Amenity                        0\n",
      "Bump                           0\n",
      "Crossing                       0\n",
      "Give_Way                       0\n",
      "Junction                       0\n",
      "No_Exit                        0\n",
      "Railway                        0\n",
      "Roundabout                     0\n",
      "Station                        0\n",
      "Stop                           0\n",
      "Traffic_Calming                0\n",
      "Traffic_Signal                 0\n",
      "Turning_Loop                   0\n",
      "Sunrise_Sunset             23246\n",
      "Civil_Twilight             23246\n",
      "Nautical_Twilight          23246\n",
      "Astronomical_Twilight      23246\n",
      "dtype: int64\n"
     ]
    }
   ],
   "source": [
    "print(df.isnull().sum())"
   ]
  },
  {
   "cell_type": "code",
   "execution_count": 6,
   "id": "9a79bba7",
   "metadata": {},
   "outputs": [
    {
     "name": "stdout",
     "output_type": "stream",
     "text": [
      "object\n"
     ]
    }
   ],
   "source": [
    "print(df['Start_Time'].dtype)\n"
   ]
  },
  {
   "cell_type": "code",
   "execution_count": 7,
   "id": "b8902854",
   "metadata": {},
   "outputs": [
    {
     "name": "stdout",
     "output_type": "stream",
     "text": [
      "Start_Time\n",
      "<class 'str'>    7728394\n",
      "Name: count, dtype: int64\n"
     ]
    }
   ],
   "source": [
    "print(df['Start_Time'].apply(type).value_counts())\n"
   ]
  },
  {
   "cell_type": "code",
   "execution_count": 4,
   "id": "763ce573",
   "metadata": {},
   "outputs": [
    {
     "name": "stdout",
     "output_type": "stream",
     "text": [
      "Số dòng không đúng định dạng chuẩn: 743166\n",
      "3639775    2017-07-23 04:21:01.000000000\n",
      "3639776    2017-07-23 05:18:46.000000000\n",
      "3639777    2017-07-23 05:36:01.000000000\n",
      "3639778    2017-07-23 08:36:01.000000000\n",
      "3639779    2017-07-23 11:02:16.000000000\n",
      "Name: Start_Time, dtype: object\n"
     ]
    }
   ],
   "source": [
    "pattern = r\"^\\d{4}-\\d{2}-\\d{2} \\d{2}:\\d{2}:\\d{2}$\"\n",
    "\n",
    "invalid_format = ~df[\"Start_Time\"].astype(str).str.match(pattern, na=False)\n",
    "print(f\"Số dòng không đúng định dạng chuẩn: {invalid_format.sum()}\")\n",
    "\n",
    "# In ra một vài dòng lỗi\n",
    "print(df.loc[invalid_format, \"Start_Time\"].drop_duplicates().head())\n"
   ]
  },
  {
   "cell_type": "code",
   "execution_count": 8,
   "id": "d6e807a8",
   "metadata": {},
   "outputs": [
    {
     "name": "stdout",
     "output_type": "stream",
     "text": [
      "Số dòng lỗi: 743166\n",
      "Ví dụ vài giá trị lỗi:\n",
      "['2017-07-23 04:21:01.000000000', '2017-07-23 05:18:46.000000000', '2017-07-23 05:36:01.000000000', '2017-07-23 08:36:01.000000000', '2017-07-23 11:02:16.000000000', '2017-07-23 13:26:16.000000000', '2017-07-23 13:37:31.000000000', '2017-07-23 13:37:31.000000000', '2017-07-23 13:46:31.000000000', '2017-07-23 14:19:32.000000000', '2017-07-23 14:06:01.000000000', '2017-07-23 14:41:16.000000000', '2017-07-23 14:50:17.000000000', '2017-07-23 14:50:17.000000000', '2017-07-23 15:15:46.000000000', '2017-07-23 15:23:16.000000000', '2017-07-23 17:50:17.000000000', '2017-07-23 17:50:17.000000000', '2017-07-23 18:15:46.000000000', '2017-07-23 18:43:31.000000000']\n"
     ]
    }
   ],
   "source": [
    "import pandas as pd\n",
    "\n",
    "# Giả sử df là DataFrame ban đầu chưa ép kiểu\n",
    "invalid_times = df.loc[pd.to_datetime(df[\"Start_Time\"], errors='coerce').isna(), \"Start_Time\"]\n",
    "\n",
    "print(f\"Số dòng lỗi: {len(invalid_times)}\")\n",
    "print(\"Ví dụ vài giá trị lỗi:\")\n",
    "print(invalid_times.head(20).tolist())\n"
   ]
  },
  {
   "cell_type": "code",
   "execution_count": 9,
   "id": "76aaf301",
   "metadata": {},
   "outputs": [
    {
     "name": "stdout",
     "output_type": "stream",
     "text": [
      "Start_Time\n",
      "<class 'str'>    7728394\n",
      "Name: count, dtype: int64\n"
     ]
    }
   ],
   "source": [
    "# Kiểm tra kiểu dữ liệu từng phần tử trong Start_Time\n",
    "types = df[\"Start_Time\"].apply(type).value_counts()\n",
    "print(types)\n"
   ]
  },
  {
   "cell_type": "code",
   "execution_count": 10,
   "id": "e76eb83d",
   "metadata": {},
   "outputs": [
    {
     "name": "stdout",
     "output_type": "stream",
     "text": [
      "Số dòng lỗi sau khi làm sạch: 743166\n"
     ]
    }
   ],
   "source": [
    "# Chuyển sang string, loại bỏ khoảng trắng đầu cuối\n",
    "df[\"Start_Time\"] = df[\"Start_Time\"].str.strip()\n",
    "\n",
    "# Loại bỏ các ký tự không phải số, dấu -, :, space, dấu chấm (dấu phân cách thời gian)\n",
    "import re\n",
    "\n",
    "def clean_datetime(s):\n",
    "    return re.sub(r\"[^0-9\\-: .]\", \"\", s)\n",
    "\n",
    "df[\"Start_Time\"] = df[\"Start_Time\"].apply(clean_datetime)\n",
    "\n",
    "# Thử ép kiểu lại\n",
    "df[\"Start_Time_dt\"] = pd.to_datetime(df[\"Start_Time\"], errors='coerce')\n",
    "\n",
    "print(\"Số dòng lỗi sau khi làm sạch:\", df[\"Start_Time_dt\"].isna().sum())\n"
   ]
  },
  {
   "cell_type": "code",
   "execution_count": 11,
   "id": "cd292fe6",
   "metadata": {},
   "outputs": [
    {
     "name": "stdout",
     "output_type": "stream",
     "text": [
      "Số lỗi sau khi loại bỏ nano giây: 60844\n"
     ]
    }
   ],
   "source": [
    "def remove_nano_seconds(s):\n",
    "    # Xoá phần .000000000 cuối chuỗi datetime nếu có\n",
    "    if isinstance(s, str) and s.endswith(\".000000000\"):\n",
    "        return s[:-10]  # bỏ 10 ký tự cuối\n",
    "    return s\n",
    "\n",
    "df[\"Start_Time_clean\"] = df[\"Start_Time\"].apply(remove_nano_seconds)\n",
    "\n",
    "df[\"Start_Time_dt\"] = pd.to_datetime(df[\"Start_Time_clean\"], errors='coerce')\n",
    "\n",
    "print(\"Số lỗi sau khi loại bỏ nano giây:\", df[\"Start_Time_dt\"].isna().sum())\n"
   ]
  },
  {
   "cell_type": "code",
   "execution_count": 12,
   "id": "b187cdce",
   "metadata": {},
   "outputs": [
    {
     "name": "stdout",
     "output_type": "stream",
     "text": [
      "Số dòng lỗi còn lại: 59202\n",
      "Ví dụ vài giá trị lỗi: ['2022-04-29 08:25:22.000000' '2022-12-14 06:40:00.000000'\n",
      " '2023-01-06 14:01:00.000000' '2022-01-11 14:44:00.000000'\n",
      " '2023-01-17 08:39:00.000000' '2022-03-07 10:54:07.000000'\n",
      " '2022-07-14 16:55:00.000000' '2022-05-11 15:44:53.000000'\n",
      " '2022-12-20 18:30:32.000000' '2022-06-30 16:32:42.000000']\n"
     ]
    }
   ],
   "source": [
    "# Lấy các dòng không parse được (giá trị NaT)\n",
    "invalid_dates = df[df[\"Start_Time_dt\"].isna()][\"Start_Time_clean\"].unique()\n",
    "\n",
    "print(f\"Số dòng lỗi còn lại: {len(invalid_dates)}\")\n",
    "print(\"Ví dụ vài giá trị lỗi:\", invalid_dates[:10])\n"
   ]
  },
  {
   "cell_type": "code",
   "execution_count": 13,
   "id": "b30cd258",
   "metadata": {},
   "outputs": [
    {
     "name": "stdout",
     "output_type": "stream",
     "text": [
      "Số lỗi sau khi loại bỏ micro giây: 0\n"
     ]
    }
   ],
   "source": [
    "def remove_microseconds(s):\n",
    "    if isinstance(s, str) and s.endswith(\".000000\"):\n",
    "        return s[:-7]  # bỏ 7 ký tự cuối (dấu chấm + 6 số 0)\n",
    "    return s\n",
    "\n",
    "df[\"Start_Time_clean2\"] = df[\"Start_Time_clean\"].apply(remove_microseconds)\n",
    "\n",
    "df[\"Start_Time_dt2\"] = pd.to_datetime(df[\"Start_Time_clean2\"], errors='coerce')\n",
    "\n",
    "print(\"Số lỗi sau khi loại bỏ micro giây:\", df[\"Start_Time_dt2\"].isna().sum())\n"
   ]
  },
  {
   "cell_type": "code",
   "execution_count": 14,
   "id": "ee31ff17",
   "metadata": {},
   "outputs": [
    {
     "name": "stdout",
     "output_type": "stream",
     "text": [
      "Số dòng lỗi End_Time: 439\n",
      "Ví dụ các giá trị lỗi:\n",
      "3641213    2023-03-28 15:10:24.045736300\n",
      "3642911    2023-03-29 07:00:59.599925600\n",
      "3649487    2023-03-31 23:50:02.638404100\n",
      "3651430    2023-03-27 14:59:47.318225400\n",
      "3653741    2023-03-20 15:38:43.238974800\n",
      "3657432    2023-03-19 07:01:09.763516900\n",
      "3659099    2023-03-24 00:04:45.328674900\n",
      "3684052    2022-08-29 21:07:42.897633300\n",
      "3696989    2022-07-05 21:36:07.437704200\n",
      "3700898       2022-03-15 22:33:15.766504\n",
      "3707480    2022-09-19 23:20:12.963182800\n",
      "3708447    2022-04-25 13:32:18.879480400\n",
      "3721683    2022-12-22 23:44:00.841032100\n",
      "3726520    2023-02-15 08:25:07.597343400\n",
      "3761555    2022-11-03 00:43:29.789616700\n",
      "3761557    2022-07-28 21:56:32.604635400\n",
      "3764252    2022-07-02 06:03:28.212801700\n",
      "3770696    2022-04-07 00:04:16.206993600\n",
      "3787451    2022-04-22 18:02:15.264367200\n",
      "3792431    2022-01-25 00:16:46.073114700\n",
      "Name: End_Time, dtype: object\n"
     ]
    }
   ],
   "source": [
    "import pandas as pd\n",
    "import re\n",
    "\n",
    "# Giả sử df là dataframe ban đầu của bạn\n",
    "\n",
    "def clean_datetime_string(s):\n",
    "    if isinstance(s, str):\n",
    "        s = s.strip()\n",
    "        if s.endswith(\".000000000\"):\n",
    "            s = s[:-10]\n",
    "        elif s.endswith(\".000000\"):\n",
    "            s = s[:-7]\n",
    "        s = re.sub(r\"[^0-9\\-: .]\", \"\", s)\n",
    "        s = s.strip()\n",
    "        return s\n",
    "    return s\n",
    "\n",
    "# Áp dụng làm sạch cho End_Time\n",
    "df[\"End_Time_clean\"] = df[\"End_Time\"].apply(clean_datetime_string)\n",
    "\n",
    "# Ép kiểu datetime, với errors='coerce' để lỗi thành NaT\n",
    "df[\"End_Time_dt\"] = pd.to_datetime(df[\"End_Time_clean\"], errors=\"coerce\")\n",
    "\n",
    "# Tìm các dòng lỗi (NaT)\n",
    "errors = df[df[\"End_Time_dt\"].isna()][\"End_Time\"]\n",
    "\n",
    "print(f\"Số dòng lỗi End_Time: {len(errors)}\")\n",
    "print(\"Ví dụ các giá trị lỗi:\")\n",
    "print(errors.head(20))\n"
   ]
  }
 ],
 "metadata": {
  "kernelspec": {
   "display_name": "Python 3",
   "language": "python",
   "name": "python3"
  },
  "language_info": {
   "codemirror_mode": {
    "name": "ipython",
    "version": 3
   },
   "file_extension": ".py",
   "mimetype": "text/x-python",
   "name": "python",
   "nbconvert_exporter": "python",
   "pygments_lexer": "ipython3",
   "version": "3.13.5"
  }
 },
 "nbformat": 4,
 "nbformat_minor": 5
}
